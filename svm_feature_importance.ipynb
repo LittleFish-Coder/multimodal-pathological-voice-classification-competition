{
 "cells": [
  {
   "cell_type": "code",
   "execution_count": 11,
   "metadata": {},
   "outputs": [],
   "source": [
    "import pandas as pd\n",
    "import numpy as np\n",
    "import matplotlib.pyplot as plt"
   ]
  },
  {
   "cell_type": "code",
   "execution_count": 12,
   "metadata": {},
   "outputs": [
    {
     "data": {
      "text/html": [
       "<div>\n",
       "<style scoped>\n",
       "    .dataframe tbody tr th:only-of-type {\n",
       "        vertical-align: middle;\n",
       "    }\n",
       "\n",
       "    .dataframe tbody tr th {\n",
       "        vertical-align: top;\n",
       "    }\n",
       "\n",
       "    .dataframe thead th {\n",
       "        text-align: right;\n",
       "    }\n",
       "</style>\n",
       "<table border=\"1\" class=\"dataframe\">\n",
       "  <thead>\n",
       "    <tr style=\"text-align: right;\">\n",
       "      <th></th>\n",
       "      <th>ID</th>\n",
       "      <th>Sex</th>\n",
       "      <th>Age</th>\n",
       "      <th>Disease category</th>\n",
       "      <th>Narrow pitch range</th>\n",
       "      <th>Decreased volume</th>\n",
       "      <th>Fatigue</th>\n",
       "      <th>Dryness</th>\n",
       "      <th>Lumping</th>\n",
       "      <th>heartburn</th>\n",
       "      <th>...</th>\n",
       "      <th>Onset of dysphonia</th>\n",
       "      <th>Noise at work</th>\n",
       "      <th>Occupational vocal demand</th>\n",
       "      <th>Diabetes</th>\n",
       "      <th>Hypertension</th>\n",
       "      <th>CAD</th>\n",
       "      <th>Head and Neck Cancer</th>\n",
       "      <th>Head injury</th>\n",
       "      <th>CVA</th>\n",
       "      <th>Voice handicap index - 10</th>\n",
       "    </tr>\n",
       "  </thead>\n",
       "  <tbody>\n",
       "    <tr>\n",
       "      <th>0</th>\n",
       "      <td>1202f15</td>\n",
       "      <td>2</td>\n",
       "      <td>39</td>\n",
       "      <td>1</td>\n",
       "      <td>1</td>\n",
       "      <td>1</td>\n",
       "      <td>1</td>\n",
       "      <td>1</td>\n",
       "      <td>1</td>\n",
       "      <td>0</td>\n",
       "      <td>...</td>\n",
       "      <td>2</td>\n",
       "      <td>3</td>\n",
       "      <td>1</td>\n",
       "      <td>0</td>\n",
       "      <td>0</td>\n",
       "      <td>0</td>\n",
       "      <td>0</td>\n",
       "      <td>0</td>\n",
       "      <td>0</td>\n",
       "      <td>22.0</td>\n",
       "    </tr>\n",
       "    <tr>\n",
       "      <th>1</th>\n",
       "      <td>0600ve0</td>\n",
       "      <td>1</td>\n",
       "      <td>69</td>\n",
       "      <td>2</td>\n",
       "      <td>1</td>\n",
       "      <td>1</td>\n",
       "      <td>1</td>\n",
       "      <td>1</td>\n",
       "      <td>0</td>\n",
       "      <td>0</td>\n",
       "      <td>...</td>\n",
       "      <td>2</td>\n",
       "      <td>1</td>\n",
       "      <td>3</td>\n",
       "      <td>0</td>\n",
       "      <td>0</td>\n",
       "      <td>0</td>\n",
       "      <td>0</td>\n",
       "      <td>0</td>\n",
       "      <td>1</td>\n",
       "      <td>19.0</td>\n",
       "    </tr>\n",
       "    <tr>\n",
       "      <th>2</th>\n",
       "      <td>1001o7l</td>\n",
       "      <td>2</td>\n",
       "      <td>59</td>\n",
       "      <td>2</td>\n",
       "      <td>1</td>\n",
       "      <td>1</td>\n",
       "      <td>1</td>\n",
       "      <td>1</td>\n",
       "      <td>0</td>\n",
       "      <td>0</td>\n",
       "      <td>...</td>\n",
       "      <td>2</td>\n",
       "      <td>3</td>\n",
       "      <td>4</td>\n",
       "      <td>0</td>\n",
       "      <td>0</td>\n",
       "      <td>0</td>\n",
       "      <td>0</td>\n",
       "      <td>0</td>\n",
       "      <td>0</td>\n",
       "      <td>18.0</td>\n",
       "    </tr>\n",
       "    <tr>\n",
       "      <th>3</th>\n",
       "      <td>1201c1t</td>\n",
       "      <td>2</td>\n",
       "      <td>47</td>\n",
       "      <td>1</td>\n",
       "      <td>1</td>\n",
       "      <td>0</td>\n",
       "      <td>1</td>\n",
       "      <td>1</td>\n",
       "      <td>1</td>\n",
       "      <td>0</td>\n",
       "      <td>...</td>\n",
       "      <td>3</td>\n",
       "      <td>1</td>\n",
       "      <td>1</td>\n",
       "      <td>0</td>\n",
       "      <td>0</td>\n",
       "      <td>0</td>\n",
       "      <td>0</td>\n",
       "      <td>0</td>\n",
       "      <td>0</td>\n",
       "      <td>27.0</td>\n",
       "    </tr>\n",
       "    <tr>\n",
       "      <th>4</th>\n",
       "      <td>0402jvt</td>\n",
       "      <td>1</td>\n",
       "      <td>87</td>\n",
       "      <td>1</td>\n",
       "      <td>0</td>\n",
       "      <td>0</td>\n",
       "      <td>0</td>\n",
       "      <td>0</td>\n",
       "      <td>0</td>\n",
       "      <td>0</td>\n",
       "      <td>...</td>\n",
       "      <td>1</td>\n",
       "      <td>1</td>\n",
       "      <td>4</td>\n",
       "      <td>0</td>\n",
       "      <td>1</td>\n",
       "      <td>0</td>\n",
       "      <td>0</td>\n",
       "      <td>0</td>\n",
       "      <td>0</td>\n",
       "      <td>16.0</td>\n",
       "    </tr>\n",
       "  </tbody>\n",
       "</table>\n",
       "<p>5 rows × 28 columns</p>\n",
       "</div>"
      ],
      "text/plain": [
       "        ID  Sex  Age  Disease category  Narrow pitch range  Decreased volume  \\\n",
       "0  1202f15    2   39                 1                   1                 1   \n",
       "1  0600ve0    1   69                 2                   1                 1   \n",
       "2  1001o7l    2   59                 2                   1                 1   \n",
       "3  1201c1t    2   47                 1                   1                 0   \n",
       "4  0402jvt    1   87                 1                   0                 0   \n",
       "\n",
       "   Fatigue  Dryness  Lumping  heartburn  ...  Onset of dysphonia   \\\n",
       "0        1        1        1          0  ...                    2   \n",
       "1        1        1        0          0  ...                    2   \n",
       "2        1        1        0          0  ...                    2   \n",
       "3        1        1        1          0  ...                    3   \n",
       "4        0        0        0          0  ...                    1   \n",
       "\n",
       "   Noise at work  Occupational vocal demand  Diabetes  Hypertension  CAD  \\\n",
       "0              3                          1         0             0    0   \n",
       "1              1                          3         0             0    0   \n",
       "2              3                          4         0             0    0   \n",
       "3              1                          1         0             0    0   \n",
       "4              1                          4         0             1    0   \n",
       "\n",
       "   Head and Neck Cancer  Head injury  CVA  Voice handicap index - 10  \n",
       "0                     0            0    0                       22.0  \n",
       "1                     0            0    1                       19.0  \n",
       "2                     0            0    0                       18.0  \n",
       "3                     0            0    0                       27.0  \n",
       "4                     0            0    0                       16.0  \n",
       "\n",
       "[5 rows x 28 columns]"
      ]
     },
     "metadata": {},
     "output_type": "display_data"
    }
   ],
   "source": [
    "df = pd.read_csv('Training Dataset/training datalist.csv')\n",
    "display(df.head())"
   ]
  },
  {
   "cell_type": "code",
   "execution_count": 13,
   "metadata": {},
   "outputs": [],
   "source": [
    "# data cleaning\n",
    "df['PPD'].fillna(0, inplace=True)\n",
    "df.dropna(subset=['Voice handicap index - 10'], inplace=True)\n",
    "# df.info()\n",
    "df.reset_index(drop=True, inplace=True)"
   ]
  },
  {
   "cell_type": "code",
   "execution_count": 14,
   "metadata": {},
   "outputs": [],
   "source": [
    "from sklearn.model_selection import train_test_split\n",
    "from sklearn.preprocessing import StandardScaler\n",
    "\n",
    "X = df.drop(['ID', 'Disease category'], axis=1)\n",
    "# X = df[features]\n",
    "y = df['Disease category']\n",
    "\n",
    "X_train, X_test, y_train, y_test = train_test_split(X, y, test_size=0.3, random_state=101)\n",
    "\n",
    "scaler = StandardScaler().fit(X_train.values)\n",
    "X_train_norm = scaler.transform(X_train.values)\n",
    "X_test_norm = scaler.transform(X_test.values)"
   ]
  },
  {
   "cell_type": "code",
   "execution_count": 15,
   "metadata": {},
   "outputs": [],
   "source": [
    "from sklearn.svm import SVC\n",
    "\n",
    "svc_model = SVC()\n",
    "svc_model.fit(X_train_norm, y_train.values)\n",
    "\n",
    "y_pred = svc_model.predict(X_test_norm)"
   ]
  },
  {
   "cell_type": "code",
   "execution_count": 16,
   "metadata": {},
   "outputs": [
    {
     "name": "stdout",
     "output_type": "stream",
     "text": [
      "Accuracy: 0.63\n",
      "Precision: 0.67\n",
      "Recall: 0.63\n",
      "F1: 0.6\n",
      "              precision    recall  f1-score   support\n",
      "\n",
      "           1       0.68      0.87      0.76       153\n",
      "           2       0.45      0.48      0.47        64\n",
      "           3       0.74      0.42      0.54        59\n",
      "           4       1.00      0.00      0.00        11\n",
      "           5       1.00      0.00      0.00        11\n",
      "\n",
      "    accuracy                           0.63       298\n",
      "   macro avg       0.77      0.36      0.35       298\n",
      "weighted avg       0.67      0.63      0.60       298\n",
      "\n",
      "[[133  14   6   0   0]\n",
      " [ 30  31   3   0   0]\n",
      " [ 16  18  25   0   0]\n",
      " [  5   6   0   0   0]\n",
      " [ 11   0   0   0   0]]\n"
     ]
    }
   ],
   "source": [
    "from sklearn.metrics import accuracy_score, f1_score, precision_score, recall_score, classification_report, confusion_matrix\n",
    "\n",
    "accuracy = accuracy_score(y_test.values, y_pred)\n",
    "precision = precision_score(y_test.values, y_pred, average='weighted', zero_division=1)\n",
    "recall = recall_score(y_test.values, y_pred, average='weighted', zero_division=1)\n",
    "f1 = f1_score(y_test.values, y_pred, average='weighted', zero_division=1)\n",
    "\n",
    "print(f\"Accuracy: {accuracy.round(2)}\")\n",
    "print(f\"Precision: {precision.round(2)}\")\n",
    "print(f\"Recall: {recall.round(2)}\")\n",
    "print(f\"F1: {f1.round(2)}\")\n",
    "\n",
    "print(classification_report(y_test.values, y_pred, zero_division=1))\n",
    "print(confusion_matrix(y_test.values, y_pred))"
   ]
  },
  {
   "cell_type": "code",
   "execution_count": 17,
   "metadata": {},
   "outputs": [
    {
     "name": "stdout",
     "output_type": "stream",
     "text": [
      "Feature ranking:\n",
      "1. Age: 48.221014492753625\n",
      "2. Voice handicap index - 10: 23.244565217391305\n",
      "3. Diurnal pattern: 2.7934782608695654\n",
      "4. Onset of dysphonia : 2.378623188405797\n",
      "5. Occupational vocal demand: 1.9728260869565217\n",
      "6. Sex: 1.608695652173913\n",
      "7. Noise at work: 1.6032608695652173\n",
      "8. Drinking: 0.5942028985507246\n",
      "9. Fatigue: 0.5307971014492754\n",
      "10. Smoking: 0.5018115942028986\n",
      "11. Dryness: 0.48731884057971014\n",
      "12. Narrow pitch range: 0.4311594202898551\n",
      "13. Decreased volume: 0.42028985507246375\n",
      "14. Lumping: 0.39311594202898553\n",
      "15. frequency: 0.358695652173913\n",
      "16. PND: 0.2554347826086957\n",
      "17. Eye dryness: 0.2028985507246377\n",
      "18. Choking: 0.18297101449275363\n",
      "19. PPD: 0.15298913043478263\n",
      "20. Hypertension: 0.08695652173913043\n",
      "21. heartburn: 0.08514492753623189\n",
      "22. Diabetes: 0.059782608695652176\n",
      "23. CAD: 0.050724637681159424\n",
      "24. Head and Neck Cancer: 0.028985507246376812\n",
      "25. CVA: 0.007246376811594203\n",
      "26. Head injury: 0.0018115942028985507\n"
     ]
    }
   ],
   "source": [
    "# Get feature importance\n",
    "support_vectors = svc_model.support_vectors_\n",
    "support_vector_indices = svc_model.support_\n",
    "support_vector_features = X.iloc[support_vector_indices, :]\n",
    "\n",
    "average_support_vector = support_vector_features.mean()\n",
    "\n",
    "feature_importance = np.abs(average_support_vector)\n",
    "sorted_indices = np.argsort(feature_importance)[::-1]\n",
    "\n",
    "# Print the feature ranking\n",
    "print(\"Feature ranking:\")\n",
    "for i, feature_index in enumerate(sorted_indices):\n",
    "    feature_name = X.columns[feature_index]\n",
    "    importance = feature_importance[feature_index]\n",
    "    print(f\"{i + 1}. {feature_name}: {importance}\")\n"
   ]
  },
  {
   "cell_type": "code",
   "execution_count": 18,
   "metadata": {},
   "outputs": [
    {
     "data": {
      "image/png": "[encoded data removed]",
      "text/plain": [
       "<Figure size 1000x600 with 1 Axes>"
      ]
     },
     "metadata": {},
     "output_type": "display_data"
    }
   ],
   "source": [
    "# plot feature importance\n",
    "import matplotlib.pyplot as plt\n",
    "\n",
    "plt.figure(figsize=(10, 6))\n",
    "plt.bar(X.columns, average_support_vector)\n",
    "plt.xticks(rotation=90)\n",
    "plt.xlabel('Features')\n",
    "plt.ylabel('Feature Importance')\n",
    "plt.title('Feature Importance from SVM')\n",
    "plt.show()\n"
   ]
  },
  {
   "cell_type": "code",
   "execution_count": 19,
   "metadata": {},
   "outputs": [
    {
     "name": "stdout",
     "output_type": "stream",
     "text": [
      "['Age', 'Voice handicap index - 10', 'Diurnal pattern', 'Onset of dysphonia ', 'Occupational vocal demand', 'Sex', 'Noise at work', 'Drinking', 'Fatigue', 'Smoking']\n"
     ]
    }
   ],
   "source": [
    "# Get the top 10 features\n",
    "top_10_features = X.columns[sorted_indices][:10].to_list()\n",
    "print(top_10_features)"
   ]
  },
  {
   "cell_type": "code",
   "execution_count": 20,
   "metadata": {},
   "outputs": [
    {
     "name": "stdout",
     "output_type": "stream",
     "text": [
      "['Diabetes', 'CAD', 'Head and Neck Cancer', 'CVA', 'Head injury']\n"
     ]
    }
   ],
   "source": [
    "# Get the least 5 features\n",
    "least_5_features = X.columns[sorted_indices][-5:].to_list()\n",
    "print(least_5_features)"
   ]
  }
 ],
 "metadata": {
  "kernelspec": {
   "display_name": "ai_cup",
   "language": "python",
   "name": "python3"
  },
  "language_info": {
   "codemirror_mode": {
    "name": "ipython",
    "version": 3
   },
   "file_extension": ".py",
   "mimetype": "text/x-python",
   "name": "python",
   "nbconvert_exporter": "python",
   "pygments_lexer": "ipython3",
   "version": "3.10.0"
  },
  "orig_nbformat": 4
 },
 "nbformat": 4,
 "nbformat_minor": 2
}
