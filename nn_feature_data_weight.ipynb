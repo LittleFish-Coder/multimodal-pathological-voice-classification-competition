{
 "cells": [
  {
   "cell_type": "code",
   "execution_count": 1,
   "metadata": {},
   "outputs": [],
   "source": [
    "import pandas as pd\n",
    "import numpy as np\n",
    "import matplotlib.pyplot as plt\n",
    "import seaborn as sns\n",
    "import torch\n",
    "import torch.nn as nn\n",
    "import torch.optim as optim\n",
    "from torch.utils.data import DataLoader, Dataset"
   ]
  },
  {
   "cell_type": "code",
   "execution_count": 2,
   "metadata": {},
   "outputs": [],
   "source": [
    "# Load dataset\n",
    "df = pd.read_csv('Training Dataset/training datalist.csv')\n",
    "\n",
    "# data cleaning\n",
    "df['PPD'].fillna(0, inplace=True)\n",
    "df.dropna(subset=['Voice handicap index - 10'], inplace=True)\n",
    "df.reset_index(drop=True, inplace=True)\n",
    "\n",
    "columns_to_drop = ['ID', 'Disease category', 'Diabetes', 'Hypertension', 'CAD', 'Head and Neck Cancer', 'Head injury', 'CVA', 'Onset of dysphonia ', 'Diurnal pattern']\n",
    "# get certain columns as features\n",
    "features = df.columns.drop(columns_to_drop).to_list()\n",
    "# print(features)"
   ]
  },
  {
   "cell_type": "code",
   "execution_count": 3,
   "metadata": {},
   "outputs": [
    {
     "name": "stdout",
     "output_type": "stream",
     "text": [
      "Label 1: 372 samples\n",
      "Label 2: 153 samples\n",
      "Label 3: 117 samples\n",
      "Label 4: 31 samples\n",
      "Label 5: 22 samples\n"
     ]
    }
   ],
   "source": [
    "# split data into train and test\n",
    "from sklearn.model_selection import train_test_split\n",
    "\n",
    "X = df[features]\n",
    "y = df['Disease category']\n",
    "\n",
    "# split the data with label evenly distributed\n",
    "X_train, X_test, y_train, y_test = train_test_split(X, y, test_size=0.3,stratify=y, random_state=101)\n",
    "\n",
    "# Print the class distribution in the training set\n",
    "unique_labels, counts = np.unique(y_train, return_counts=True)\n",
    "for label, count in zip(unique_labels, counts):\n",
    "    print(f\"Label {label}: {count} samples\")"
   ]
  },
  {
   "cell_type": "code",
   "execution_count": 4,
   "metadata": {},
   "outputs": [],
   "source": [
    "# Define your custom dataset class\n",
    "class CustomDataset(Dataset):\n",
    "    def __init__(self, X, y):\n",
    "        self.X = X\n",
    "        self.y = y - 1\n",
    "        \n",
    "    def __len__(self):\n",
    "        return len(self.X)\n",
    "    \n",
    "    def __getitem__(self, index):\n",
    "        try:\n",
    "            tup = self.X[index].astype(np.float32), self.y[index].astype(np.int64)\n",
    "        except:\n",
    "            import ipdb\n",
    "            ipdb.set_trace()\n",
    "        return tup\n",
    "\n",
    "# Define your model class\n",
    "class Classifier(nn.Module):\n",
    "    def __init__(self, input_size, hidden_size, num_classes):\n",
    "        super(Classifier, self).__init__()\n",
    "        self.fc1 = nn.Linear(input_size, hidden_size)\n",
    "        self.relu = nn.ReLU()\n",
    "        self.dropout = nn.Dropout(0.2)\n",
    "        self.fc2 = nn.Linear(hidden_size, hidden_size*4)\n",
    "        self.fc3 = nn.Linear(hidden_size*4, num_classes)\n",
    "        \n",
    "    def forward(self, x):\n",
    "        out = self.fc1(x)\n",
    "        out = self.relu(out)\n",
    "        out = self.fc2(out)\n",
    "        out = self.relu(out)\n",
    "        out = self.fc3(out)\n",
    "        return out\n"
   ]
  },
  {
   "cell_type": "code",
   "execution_count": 5,
   "metadata": {},
   "outputs": [],
   "source": [
    "# Define hyperparameters\n",
    "input_size = 18\n",
    "hidden_size = 20\n",
    "num_classes = 5\n",
    "learning_rate = 0.001\n",
    "batch_size = 32\n",
    "num_epochs = 50"
   ]
  },
  {
   "cell_type": "code",
   "execution_count": 6,
   "metadata": {},
   "outputs": [],
   "source": [
    "# Create your dataset and dataloader\n",
    "train_dataset = CustomDataset(X_train.values, y_train.values)  # Replace X and y with your own data\n",
    "test_dataset = CustomDataset(X_test.values, y_test.values)  # Replace X and y with your own data\n",
    "train_dataloader = DataLoader(train_dataset, batch_size=batch_size, shuffle=True)\n",
    "test_dataloader = DataLoader(test_dataset, batch_size=batch_size, shuffle=False)"
   ]
  },
  {
   "cell_type": "code",
   "execution_count": 7,
   "metadata": {},
   "outputs": [],
   "source": [
    "# Create your model\n",
    "model = Classifier(input_size, hidden_size, num_classes)\n",
    "\n",
    "# Define loss function and optimizer\n",
    "criterion = nn.CrossEntropyLoss()\n",
    "optimizer = optim.Adam(model.parameters(), lr=learning_rate)"
   ]
  },
  {
   "cell_type": "code",
   "execution_count": 8,
   "metadata": {},
   "outputs": [
    {
     "name": "stdout",
     "output_type": "stream",
     "text": [
      "Epoch [1/50], Step [10/22], Loss: 1.4403\n",
      "Epoch [1/50], Step [20/22], Loss: 1.4211\n",
      "Epoch [2/50], Step [10/22], Loss: 1.0698\n",
      "Epoch [2/50], Step [20/22], Loss: 1.7003\n",
      "Epoch [3/50], Step [10/22], Loss: 1.2760\n",
      "Epoch [3/50], Step [20/22], Loss: 1.3079\n",
      "Epoch [4/50], Step [10/22], Loss: 1.2174\n",
      "Epoch [4/50], Step [20/22], Loss: 1.0789\n",
      "Epoch [5/50], Step [10/22], Loss: 1.1824\n",
      "Epoch [5/50], Step [20/22], Loss: 1.1550\n",
      "Epoch [6/50], Step [10/22], Loss: 1.0789\n",
      "Epoch [6/50], Step [20/22], Loss: 1.1075\n",
      "Epoch [7/50], Step [10/22], Loss: 1.2292\n",
      "Epoch [7/50], Step [20/22], Loss: 1.3776\n",
      "Epoch [8/50], Step [10/22], Loss: 0.9262\n",
      "Epoch [8/50], Step [20/22], Loss: 1.0712\n",
      "Epoch [9/50], Step [10/22], Loss: 1.1319\n",
      "Epoch [9/50], Step [20/22], Loss: 0.8667\n",
      "Epoch [10/50], Step [10/22], Loss: 1.0283\n",
      "Epoch [10/50], Step [20/22], Loss: 1.0209\n",
      "Epoch [11/50], Step [10/22], Loss: 0.8983\n",
      "Epoch [11/50], Step [20/22], Loss: 1.1274\n",
      "Epoch [12/50], Step [10/22], Loss: 1.0116\n",
      "Epoch [12/50], Step [20/22], Loss: 1.2076\n",
      "Epoch [13/50], Step [10/22], Loss: 1.0544\n",
      "Epoch [13/50], Step [20/22], Loss: 1.1592\n",
      "Epoch [14/50], Step [10/22], Loss: 1.0151\n",
      "Epoch [14/50], Step [20/22], Loss: 0.9747\n",
      "Epoch [15/50], Step [10/22], Loss: 1.0461\n",
      "Epoch [15/50], Step [20/22], Loss: 1.0313\n",
      "Epoch [16/50], Step [10/22], Loss: 0.7961\n",
      "Epoch [16/50], Step [20/22], Loss: 1.4853\n",
      "Epoch [17/50], Step [10/22], Loss: 1.2326\n",
      "Epoch [17/50], Step [20/22], Loss: 1.0057\n",
      "Epoch [18/50], Step [10/22], Loss: 0.9062\n",
      "Epoch [18/50], Step [20/22], Loss: 1.1586\n",
      "Epoch [19/50], Step [10/22], Loss: 1.1265\n",
      "Epoch [19/50], Step [20/22], Loss: 0.9788\n",
      "Epoch [20/50], Step [10/22], Loss: 0.9484\n",
      "Epoch [20/50], Step [20/22], Loss: 1.1137\n",
      "Epoch [21/50], Step [10/22], Loss: 0.9148\n",
      "Epoch [21/50], Step [20/22], Loss: 0.8901\n",
      "Epoch [22/50], Step [10/22], Loss: 1.1105\n",
      "Epoch [22/50], Step [20/22], Loss: 0.8724\n",
      "Epoch [23/50], Step [10/22], Loss: 0.8188\n",
      "Epoch [23/50], Step [20/22], Loss: 0.6051\n",
      "Epoch [24/50], Step [10/22], Loss: 0.7985\n",
      "Epoch [24/50], Step [20/22], Loss: 0.9676\n",
      "Epoch [25/50], Step [10/22], Loss: 0.7236\n",
      "Epoch [25/50], Step [20/22], Loss: 0.7334\n",
      "Epoch [26/50], Step [10/22], Loss: 0.8213\n",
      "Epoch [26/50], Step [20/22], Loss: 0.9605\n",
      "Epoch [27/50], Step [10/22], Loss: 1.1026\n",
      "Epoch [27/50], Step [20/22], Loss: 0.8167\n",
      "Epoch [28/50], Step [10/22], Loss: 0.8068\n",
      "Epoch [28/50], Step [20/22], Loss: 0.6898\n",
      "Epoch [29/50], Step [10/22], Loss: 1.0673\n",
      "Epoch [29/50], Step [20/22], Loss: 1.1157\n",
      "Epoch [30/50], Step [10/22], Loss: 0.7358\n",
      "Epoch [30/50], Step [20/22], Loss: 1.0397\n",
      "Epoch [31/50], Step [10/22], Loss: 1.0652\n",
      "Epoch [31/50], Step [20/22], Loss: 1.1449\n",
      "Epoch [32/50], Step [10/22], Loss: 0.9852\n",
      "Epoch [32/50], Step [20/22], Loss: 0.6252\n",
      "Epoch [33/50], Step [10/22], Loss: 0.8418\n",
      "Epoch [33/50], Step [20/22], Loss: 1.0323\n",
      "Epoch [34/50], Step [10/22], Loss: 0.6800\n",
      "Epoch [34/50], Step [20/22], Loss: 0.9989\n",
      "Epoch [35/50], Step [10/22], Loss: 0.9204\n",
      "Epoch [35/50], Step [20/22], Loss: 0.6305\n",
      "Epoch [36/50], Step [10/22], Loss: 1.0350\n",
      "Epoch [36/50], Step [20/22], Loss: 0.8414\n",
      "Epoch [37/50], Step [10/22], Loss: 0.8788\n",
      "Epoch [37/50], Step [20/22], Loss: 0.7108\n",
      "Epoch [38/50], Step [10/22], Loss: 0.5790\n",
      "Epoch [38/50], Step [20/22], Loss: 1.0634\n",
      "Epoch [39/50], Step [10/22], Loss: 0.8952\n",
      "Epoch [39/50], Step [20/22], Loss: 0.9297\n",
      "Epoch [40/50], Step [10/22], Loss: 0.9576\n",
      "Epoch [40/50], Step [20/22], Loss: 0.7392\n",
      "Epoch [41/50], Step [10/22], Loss: 0.8765\n",
      "Epoch [41/50], Step [20/22], Loss: 1.0324\n",
      "Epoch [42/50], Step [10/22], Loss: 0.9691\n",
      "Epoch [42/50], Step [20/22], Loss: 0.9828\n",
      "Epoch [43/50], Step [10/22], Loss: 0.8524\n",
      "Epoch [43/50], Step [20/22], Loss: 1.1280\n",
      "Epoch [44/50], Step [10/22], Loss: 1.0201\n",
      "Epoch [44/50], Step [20/22], Loss: 0.9311\n",
      "Epoch [45/50], Step [10/22], Loss: 0.9297\n",
      "Epoch [45/50], Step [20/22], Loss: 0.6468\n",
      "Epoch [46/50], Step [10/22], Loss: 0.6983\n",
      "Epoch [46/50], Step [20/22], Loss: 0.7191\n",
      "Epoch [47/50], Step [10/22], Loss: 0.7661\n",
      "Epoch [47/50], Step [20/22], Loss: 0.7565\n",
      "Epoch [48/50], Step [10/22], Loss: 0.9487\n",
      "Epoch [48/50], Step [20/22], Loss: 0.9202\n",
      "Epoch [49/50], Step [10/22], Loss: 1.2428\n",
      "Epoch [49/50], Step [20/22], Loss: 0.7969\n",
      "Epoch [50/50], Step [10/22], Loss: 0.8265\n",
      "Epoch [50/50], Step [20/22], Loss: 0.6864\n"
     ]
    }
   ],
   "source": [
    "# Training loop\n",
    "for epoch in range(num_epochs):\n",
    "    for batch_idx, (inputs, labels) in enumerate(train_dataloader):\n",
    "        # Forward pass\n",
    "        outputs = model(inputs)\n",
    "        loss = criterion(outputs, labels)\n",
    "        \n",
    "        # Backward pass and optimization\n",
    "        optimizer.zero_grad()\n",
    "        loss.backward()\n",
    "        optimizer.step()\n",
    "        \n",
    "        # Print training progress\n",
    "        if (batch_idx+1) % 10 == 0:\n",
    "            print(f\"Epoch [{epoch+1}/{num_epochs}], Step [{batch_idx+1}/{len(train_dataloader)}], Loss: {loss.item():.4f}\")"
   ]
  },
  {
   "cell_type": "code",
   "execution_count": 9,
   "metadata": {},
   "outputs": [
    {
     "name": "stdout",
     "output_type": "stream",
     "text": [
      "Accuracy: 0.6409\n"
     ]
    }
   ],
   "source": [
    "# Evaluation\n",
    "model.eval()\n",
    "with torch.no_grad():\n",
    "    total_correct = 0\n",
    "    total_samples = 0\n",
    "    for inputs, labels in test_dataloader:\n",
    "        outputs = model(inputs)\n",
    "        _, predicted = torch.max(outputs.data, 1)\n",
    "        total_samples += labels.size(0)\n",
    "        total_correct += (predicted == labels).sum().item()\n",
    "    \n",
    "    accuracy = total_correct / total_samples\n",
    "    print(f\"Accuracy: {accuracy:.4f}\")\n"
   ]
  }
 ],
 "metadata": {
  "kernelspec": {
   "display_name": "aicup",
   "language": "python",
   "name": "python3"
  },
  "language_info": {
   "codemirror_mode": {
    "name": "ipython",
    "version": 3
   },
   "file_extension": ".py",
   "mimetype": "text/x-python",
   "name": "python",
   "nbconvert_exporter": "python",
   "pygments_lexer": "ipython3",
   "version": "3.10.0"
  },
  "orig_nbformat": 4
 },
 "nbformat": 4,
 "nbformat_minor": 2
}
