{
 "cells": [
  {
   "cell_type": "code",
   "execution_count": 1,
   "metadata": {},
   "outputs": [],
   "source": [
    "import pandas as pd\n",
    "import numpy as np\n",
    "import matplotlib.pyplot as plt\n",
    "import seaborn as sns\n",
    "import torch\n",
    "import torch.nn as nn\n",
    "import torch.optim as optim\n",
    "from torch.utils.data import DataLoader, Dataset"
   ]
  },
  {
   "cell_type": "code",
   "execution_count": 2,
   "metadata": {},
   "outputs": [],
   "source": [
    "# Load dataset\n",
    "df = pd.read_csv('Training Dataset/training datalist.csv')\n",
    "\n",
    "# data cleaning\n",
    "df['PPD'].fillna(0, inplace=True)\n",
    "df.dropna(subset=['Voice handicap index - 10'], inplace=True)\n",
    "df.reset_index(drop=True, inplace=True)"
   ]
  },
  {
   "cell_type": "code",
   "execution_count": 3,
   "metadata": {},
   "outputs": [
    {
     "name": "stdout",
     "output_type": "stream",
     "text": [
      "Label 1: 372 samples\n",
      "Label 2: 153 samples\n",
      "Label 3: 117 samples\n",
      "Label 4: 31 samples\n",
      "Label 5: 22 samples\n"
     ]
    }
   ],
   "source": [
    "# split data into train and test\n",
    "from sklearn.model_selection import train_test_split\n",
    "\n",
    "X = df.drop(['ID', 'Disease category'], axis=1)\n",
    "y = df['Disease category']\n",
    "\n",
    "# split the data with label evenly distributed\n",
    "X_train, X_test, y_train, y_test = train_test_split(X, y, test_size=0.3,stratify=y, random_state=101)\n",
    "\n",
    "# Print the class distribution in the training set\n",
    "unique_labels, counts = np.unique(y_train, return_counts=True)\n",
    "for label, count in zip(unique_labels, counts):\n",
    "    print(f\"Label {label}: {count} samples\")"
   ]
  },
  {
   "cell_type": "code",
   "execution_count": 4,
   "metadata": {},
   "outputs": [],
   "source": [
    "# Define your custom dataset class\n",
    "class CustomDataset(Dataset):\n",
    "    def __init__(self, X, y):\n",
    "        self.X = X\n",
    "        self.y = y - 1\n",
    "        \n",
    "    def __len__(self):\n",
    "        return len(self.X)\n",
    "    \n",
    "    def __getitem__(self, index):\n",
    "        try:\n",
    "            tup = self.X[index].astype(np.float32), self.y[index].astype(np.int64)\n",
    "        except:\n",
    "            import ipdb\n",
    "            ipdb.set_trace()\n",
    "        return tup\n",
    "\n",
    "# Define your model class\n",
    "class Classifier(nn.Module):\n",
    "    def __init__(self, input_size, hidden_size, num_classes):\n",
    "        super(Classifier, self).__init__()\n",
    "        self.fc1 = nn.Linear(input_size, hidden_size)\n",
    "        self.relu = nn.ReLU()\n",
    "        self.dropout = nn.Dropout(0.2)\n",
    "        self.fc2 = nn.Linear(hidden_size, hidden_size*4)\n",
    "        self.fc3 = nn.Linear(hidden_size*4, num_classes)\n",
    "        \n",
    "    def forward(self, x):\n",
    "        out = self.fc1(x)\n",
    "        out = self.relu(out)\n",
    "        out = self.dropout(out)\n",
    "        out = self.fc2(out)\n",
    "        out = self.relu(out)\n",
    "        out = self.dropout(out)\n",
    "        out = self.fc3(out)\n",
    "        return out\n"
   ]
  },
  {
   "cell_type": "code",
   "execution_count": 5,
   "metadata": {},
   "outputs": [],
   "source": [
    "# Define hyperparameters\n",
    "input_size = 26\n",
    "hidden_size = 20\n",
    "num_classes = 5\n",
    "learning_rate = 0.001\n",
    "batch_size = 32\n",
    "num_epochs = 50"
   ]
  },
  {
   "cell_type": "code",
   "execution_count": 6,
   "metadata": {},
   "outputs": [],
   "source": [
    "# Create your dataset and dataloader\n",
    "train_dataset = CustomDataset(X_train.values, y_train.values)  # Replace X and y with your own data\n",
    "test_dataset = CustomDataset(X_test.values, y_test.values)  # Replace X and y with your own data\n",
    "train_dataloader = DataLoader(train_dataset, batch_size=batch_size, shuffle=True)\n",
    "test_dataloader = DataLoader(test_dataset, batch_size=batch_size, shuffle=False)"
   ]
  },
  {
   "cell_type": "code",
   "execution_count": 7,
   "metadata": {},
   "outputs": [],
   "source": [
    "# Create your model\n",
    "model = Classifier(input_size, hidden_size, num_classes)\n",
    "\n",
    "# Define loss function and optimizer\n",
    "criterion = nn.CrossEntropyLoss()\n",
    "optimizer = optim.Adam(model.parameters(), lr=learning_rate)"
   ]
  },
  {
   "cell_type": "code",
   "execution_count": 8,
   "metadata": {},
   "outputs": [
    {
     "name": "stdout",
     "output_type": "stream",
     "text": [
      "Epoch [1/50], Step [10/22], Loss: 1.2135\n",
      "Epoch [1/50], Step [20/22], Loss: 0.9667\n",
      "Epoch [2/50], Step [10/22], Loss: 1.3718\n",
      "Epoch [2/50], Step [20/22], Loss: 1.3975\n",
      "Epoch [3/50], Step [10/22], Loss: 1.1382\n",
      "Epoch [3/50], Step [20/22], Loss: 1.1854\n",
      "Epoch [4/50], Step [10/22], Loss: 1.3750\n",
      "Epoch [4/50], Step [20/22], Loss: 1.2310\n",
      "Epoch [5/50], Step [10/22], Loss: 1.4047\n",
      "Epoch [5/50], Step [20/22], Loss: 1.2564\n",
      "Epoch [6/50], Step [10/22], Loss: 1.0879\n",
      "Epoch [6/50], Step [20/22], Loss: 1.2381\n",
      "Epoch [7/50], Step [10/22], Loss: 1.3146\n",
      "Epoch [7/50], Step [20/22], Loss: 1.3126\n",
      "Epoch [8/50], Step [10/22], Loss: 1.1276\n",
      "Epoch [8/50], Step [20/22], Loss: 1.1196\n",
      "Epoch [9/50], Step [10/22], Loss: 1.3418\n",
      "Epoch [9/50], Step [20/22], Loss: 1.1844\n",
      "Epoch [10/50], Step [10/22], Loss: 1.1665\n",
      "Epoch [10/50], Step [20/22], Loss: 1.2960\n",
      "Epoch [11/50], Step [10/22], Loss: 0.9387\n",
      "Epoch [11/50], Step [20/22], Loss: 1.1458\n",
      "Epoch [12/50], Step [10/22], Loss: 1.1195\n",
      "Epoch [12/50], Step [20/22], Loss: 1.0722\n",
      "Epoch [13/50], Step [10/22], Loss: 1.4416\n",
      "Epoch [13/50], Step [20/22], Loss: 1.4018\n",
      "Epoch [14/50], Step [10/22], Loss: 1.0756\n",
      "Epoch [14/50], Step [20/22], Loss: 1.0712\n",
      "Epoch [15/50], Step [10/22], Loss: 0.9356\n",
      "Epoch [15/50], Step [20/22], Loss: 1.2025\n",
      "Epoch [16/50], Step [10/22], Loss: 0.9650\n",
      "Epoch [16/50], Step [20/22], Loss: 1.1593\n",
      "Epoch [17/50], Step [10/22], Loss: 1.2298\n",
      "Epoch [17/50], Step [20/22], Loss: 1.0052\n",
      "Epoch [18/50], Step [10/22], Loss: 1.0024\n",
      "Epoch [18/50], Step [20/22], Loss: 0.9051\n",
      "Epoch [19/50], Step [10/22], Loss: 0.8452\n",
      "Epoch [19/50], Step [20/22], Loss: 0.9044\n",
      "Epoch [20/50], Step [10/22], Loss: 1.0471\n",
      "Epoch [20/50], Step [20/22], Loss: 1.0202\n",
      "Epoch [21/50], Step [10/22], Loss: 0.8326\n",
      "Epoch [21/50], Step [20/22], Loss: 1.1001\n",
      "Epoch [22/50], Step [10/22], Loss: 0.9357\n",
      "Epoch [22/50], Step [20/22], Loss: 0.8575\n",
      "Epoch [23/50], Step [10/22], Loss: 0.9410\n",
      "Epoch [23/50], Step [20/22], Loss: 1.0063\n",
      "Epoch [24/50], Step [10/22], Loss: 0.7898\n",
      "Epoch [24/50], Step [20/22], Loss: 0.9381\n",
      "Epoch [25/50], Step [10/22], Loss: 0.9000\n",
      "Epoch [25/50], Step [20/22], Loss: 1.2691\n",
      "Epoch [26/50], Step [10/22], Loss: 1.0121\n",
      "Epoch [26/50], Step [20/22], Loss: 1.0191\n",
      "Epoch [27/50], Step [10/22], Loss: 0.9382\n",
      "Epoch [27/50], Step [20/22], Loss: 0.8908\n",
      "Epoch [28/50], Step [10/22], Loss: 0.7034\n",
      "Epoch [28/50], Step [20/22], Loss: 1.2076\n",
      "Epoch [29/50], Step [10/22], Loss: 1.0552\n",
      "Epoch [29/50], Step [20/22], Loss: 0.8627\n",
      "Epoch [30/50], Step [10/22], Loss: 0.9450\n",
      "Epoch [30/50], Step [20/22], Loss: 0.6771\n",
      "Epoch [31/50], Step [10/22], Loss: 0.9988\n",
      "Epoch [31/50], Step [20/22], Loss: 0.8341\n",
      "Epoch [32/50], Step [10/22], Loss: 0.9554\n",
      "Epoch [32/50], Step [20/22], Loss: 0.8662\n",
      "Epoch [33/50], Step [10/22], Loss: 0.8423\n",
      "Epoch [33/50], Step [20/22], Loss: 1.0745\n",
      "Epoch [34/50], Step [10/22], Loss: 0.7166\n",
      "Epoch [34/50], Step [20/22], Loss: 1.0354\n",
      "Epoch [35/50], Step [10/22], Loss: 0.9310\n",
      "Epoch [35/50], Step [20/22], Loss: 0.8442\n",
      "Epoch [36/50], Step [10/22], Loss: 1.0882\n",
      "Epoch [36/50], Step [20/22], Loss: 1.0089\n",
      "Epoch [37/50], Step [10/22], Loss: 0.7256\n",
      "Epoch [37/50], Step [20/22], Loss: 0.9963\n",
      "Epoch [38/50], Step [10/22], Loss: 1.0163\n",
      "Epoch [38/50], Step [20/22], Loss: 1.1750\n",
      "Epoch [39/50], Step [10/22], Loss: 0.7992\n",
      "Epoch [39/50], Step [20/22], Loss: 0.7068\n",
      "Epoch [40/50], Step [10/22], Loss: 0.9431\n",
      "Epoch [40/50], Step [20/22], Loss: 0.9013\n",
      "Epoch [41/50], Step [10/22], Loss: 1.2021\n",
      "Epoch [41/50], Step [20/22], Loss: 0.6856\n",
      "Epoch [42/50], Step [10/22], Loss: 0.7321\n",
      "Epoch [42/50], Step [20/22], Loss: 1.1948\n",
      "Epoch [43/50], Step [10/22], Loss: 1.1371\n",
      "Epoch [43/50], Step [20/22], Loss: 1.0000\n",
      "Epoch [44/50], Step [10/22], Loss: 0.7380\n",
      "Epoch [44/50], Step [20/22], Loss: 0.8029\n",
      "Epoch [45/50], Step [10/22], Loss: 0.9597\n",
      "Epoch [45/50], Step [20/22], Loss: 0.9759\n",
      "Epoch [46/50], Step [10/22], Loss: 0.8166\n",
      "Epoch [46/50], Step [20/22], Loss: 0.8798\n",
      "Epoch [47/50], Step [10/22], Loss: 1.0236\n",
      "Epoch [47/50], Step [20/22], Loss: 1.0052\n",
      "Epoch [48/50], Step [10/22], Loss: 0.7570\n",
      "Epoch [48/50], Step [20/22], Loss: 0.6277\n",
      "Epoch [49/50], Step [10/22], Loss: 0.8394\n",
      "Epoch [49/50], Step [20/22], Loss: 0.6367\n",
      "Epoch [50/50], Step [10/22], Loss: 1.0155\n",
      "Epoch [50/50], Step [20/22], Loss: 0.8698\n"
     ]
    }
   ],
   "source": [
    "# Training loop\n",
    "for epoch in range(num_epochs):\n",
    "    for batch_idx, (inputs, labels) in enumerate(train_dataloader):\n",
    "        # Forward pass\n",
    "        outputs = model(inputs)\n",
    "        loss = criterion(outputs, labels)\n",
    "        \n",
    "        # Backward pass and optimization\n",
    "        optimizer.zero_grad()\n",
    "        loss.backward()\n",
    "        optimizer.step()\n",
    "        \n",
    "        # Print training progress\n",
    "        if (batch_idx+1) % 10 == 0:\n",
    "            print(f\"Epoch [{epoch+1}/{num_epochs}], Step [{batch_idx+1}/{len(train_dataloader)}], Loss: {loss.item():.4f}\")"
   ]
  },
  {
   "cell_type": "code",
   "execution_count": 9,
   "metadata": {},
   "outputs": [
    {
     "name": "stdout",
     "output_type": "stream",
     "text": [
      "Accuracy: 0.6443\n"
     ]
    }
   ],
   "source": [
    "# Evaluation\n",
    "model.eval()\n",
    "with torch.no_grad():\n",
    "    total_correct = 0\n",
    "    total_samples = 0\n",
    "    for inputs, labels in test_dataloader:\n",
    "        outputs = model(inputs)\n",
    "        _, predicted = torch.max(outputs.data, 1)\n",
    "        total_samples += labels.size(0)\n",
    "        total_correct += (predicted == labels).sum().item()\n",
    "    \n",
    "    accuracy = total_correct / total_samples\n",
    "    print(f\"Accuracy: {accuracy:.4f}\")\n"
   ]
  }
 ],
 "metadata": {
  "kernelspec": {
   "display_name": "aicup",
   "language": "python",
   "name": "python3"
  },
  "language_info": {
   "codemirror_mode": {
    "name": "ipython",
    "version": 3
   },
   "file_extension": ".py",
   "mimetype": "text/x-python",
   "name": "python",
   "nbconvert_exporter": "python",
   "pygments_lexer": "ipython3",
   "version": "3.10.0"
  },
  "orig_nbformat": 4
 },
 "nbformat": 4,
 "nbformat_minor": 2
}
