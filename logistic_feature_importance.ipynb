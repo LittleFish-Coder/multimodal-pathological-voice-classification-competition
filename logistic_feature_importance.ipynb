{
 "cells": [
  {
   "cell_type": "code",
   "execution_count": 21,
   "metadata": {},
   "outputs": [],
   "source": [
    "import pandas as pd\n",
    "import numpy as np\n",
    "import matplotlib.pyplot as plt"
   ]
  },
  {
   "cell_type": "code",
   "execution_count": 22,
   "metadata": {},
   "outputs": [
    {
     "data": {
      "text/html": [
       "<div>\n",
       "<style scoped>\n",
       "    .dataframe tbody tr th:only-of-type {\n",
       "        vertical-align: middle;\n",
       "    }\n",
       "\n",
       "    .dataframe tbody tr th {\n",
       "        vertical-align: top;\n",
       "    }\n",
       "\n",
       "    .dataframe thead th {\n",
       "        text-align: right;\n",
       "    }\n",
       "</style>\n",
       "<table border=\"1\" class=\"dataframe\">\n",
       "  <thead>\n",
       "    <tr style=\"text-align: right;\">\n",
       "      <th></th>\n",
       "      <th>ID</th>\n",
       "      <th>Sex</th>\n",
       "      <th>Age</th>\n",
       "      <th>Disease category</th>\n",
       "      <th>Narrow pitch range</th>\n",
       "      <th>Decreased volume</th>\n",
       "      <th>Fatigue</th>\n",
       "      <th>Dryness</th>\n",
       "      <th>Lumping</th>\n",
       "      <th>heartburn</th>\n",
       "      <th>...</th>\n",
       "      <th>Onset of dysphonia</th>\n",
       "      <th>Noise at work</th>\n",
       "      <th>Occupational vocal demand</th>\n",
       "      <th>Diabetes</th>\n",
       "      <th>Hypertension</th>\n",
       "      <th>CAD</th>\n",
       "      <th>Head and Neck Cancer</th>\n",
       "      <th>Head injury</th>\n",
       "      <th>CVA</th>\n",
       "      <th>Voice handicap index - 10</th>\n",
       "    </tr>\n",
       "  </thead>\n",
       "  <tbody>\n",
       "    <tr>\n",
       "      <th>0</th>\n",
       "      <td>1202f15</td>\n",
       "      <td>2</td>\n",
       "      <td>39</td>\n",
       "      <td>1</td>\n",
       "      <td>1</td>\n",
       "      <td>1</td>\n",
       "      <td>1</td>\n",
       "      <td>1</td>\n",
       "      <td>1</td>\n",
       "      <td>0</td>\n",
       "      <td>...</td>\n",
       "      <td>2</td>\n",
       "      <td>3</td>\n",
       "      <td>1</td>\n",
       "      <td>0</td>\n",
       "      <td>0</td>\n",
       "      <td>0</td>\n",
       "      <td>0</td>\n",
       "      <td>0</td>\n",
       "      <td>0</td>\n",
       "      <td>22.0</td>\n",
       "    </tr>\n",
       "    <tr>\n",
       "      <th>1</th>\n",
       "      <td>0600ve0</td>\n",
       "      <td>1</td>\n",
       "      <td>69</td>\n",
       "      <td>2</td>\n",
       "      <td>1</td>\n",
       "      <td>1</td>\n",
       "      <td>1</td>\n",
       "      <td>1</td>\n",
       "      <td>0</td>\n",
       "      <td>0</td>\n",
       "      <td>...</td>\n",
       "      <td>2</td>\n",
       "      <td>1</td>\n",
       "      <td>3</td>\n",
       "      <td>0</td>\n",
       "      <td>0</td>\n",
       "      <td>0</td>\n",
       "      <td>0</td>\n",
       "      <td>0</td>\n",
       "      <td>1</td>\n",
       "      <td>19.0</td>\n",
       "    </tr>\n",
       "    <tr>\n",
       "      <th>2</th>\n",
       "      <td>1001o7l</td>\n",
       "      <td>2</td>\n",
       "      <td>59</td>\n",
       "      <td>2</td>\n",
       "      <td>1</td>\n",
       "      <td>1</td>\n",
       "      <td>1</td>\n",
       "      <td>1</td>\n",
       "      <td>0</td>\n",
       "      <td>0</td>\n",
       "      <td>...</td>\n",
       "      <td>2</td>\n",
       "      <td>3</td>\n",
       "      <td>4</td>\n",
       "      <td>0</td>\n",
       "      <td>0</td>\n",
       "      <td>0</td>\n",
       "      <td>0</td>\n",
       "      <td>0</td>\n",
       "      <td>0</td>\n",
       "      <td>18.0</td>\n",
       "    </tr>\n",
       "    <tr>\n",
       "      <th>3</th>\n",
       "      <td>1201c1t</td>\n",
       "      <td>2</td>\n",
       "      <td>47</td>\n",
       "      <td>1</td>\n",
       "      <td>1</td>\n",
       "      <td>0</td>\n",
       "      <td>1</td>\n",
       "      <td>1</td>\n",
       "      <td>1</td>\n",
       "      <td>0</td>\n",
       "      <td>...</td>\n",
       "      <td>3</td>\n",
       "      <td>1</td>\n",
       "      <td>1</td>\n",
       "      <td>0</td>\n",
       "      <td>0</td>\n",
       "      <td>0</td>\n",
       "      <td>0</td>\n",
       "      <td>0</td>\n",
       "      <td>0</td>\n",
       "      <td>27.0</td>\n",
       "    </tr>\n",
       "    <tr>\n",
       "      <th>4</th>\n",
       "      <td>0402jvt</td>\n",
       "      <td>1</td>\n",
       "      <td>87</td>\n",
       "      <td>1</td>\n",
       "      <td>0</td>\n",
       "      <td>0</td>\n",
       "      <td>0</td>\n",
       "      <td>0</td>\n",
       "      <td>0</td>\n",
       "      <td>0</td>\n",
       "      <td>...</td>\n",
       "      <td>1</td>\n",
       "      <td>1</td>\n",
       "      <td>4</td>\n",
       "      <td>0</td>\n",
       "      <td>1</td>\n",
       "      <td>0</td>\n",
       "      <td>0</td>\n",
       "      <td>0</td>\n",
       "      <td>0</td>\n",
       "      <td>16.0</td>\n",
       "    </tr>\n",
       "  </tbody>\n",
       "</table>\n",
       "<p>5 rows × 28 columns</p>\n",
       "</div>"
      ],
      "text/plain": [
       "        ID  Sex  Age  Disease category  Narrow pitch range  Decreased volume  \\\n",
       "0  1202f15    2   39                 1                   1                 1   \n",
       "1  0600ve0    1   69                 2                   1                 1   \n",
       "2  1001o7l    2   59                 2                   1                 1   \n",
       "3  1201c1t    2   47                 1                   1                 0   \n",
       "4  0402jvt    1   87                 1                   0                 0   \n",
       "\n",
       "   Fatigue  Dryness  Lumping  heartburn  ...  Onset of dysphonia   \\\n",
       "0        1        1        1          0  ...                    2   \n",
       "1        1        1        0          0  ...                    2   \n",
       "2        1        1        0          0  ...                    2   \n",
       "3        1        1        1          0  ...                    3   \n",
       "4        0        0        0          0  ...                    1   \n",
       "\n",
       "   Noise at work  Occupational vocal demand  Diabetes  Hypertension  CAD  \\\n",
       "0              3                          1         0             0    0   \n",
       "1              1                          3         0             0    0   \n",
       "2              3                          4         0             0    0   \n",
       "3              1                          1         0             0    0   \n",
       "4              1                          4         0             1    0   \n",
       "\n",
       "   Head and Neck Cancer  Head injury  CVA  Voice handicap index - 10  \n",
       "0                     0            0    0                       22.0  \n",
       "1                     0            0    1                       19.0  \n",
       "2                     0            0    0                       18.0  \n",
       "3                     0            0    0                       27.0  \n",
       "4                     0            0    0                       16.0  \n",
       "\n",
       "[5 rows x 28 columns]"
      ]
     },
     "metadata": {},
     "output_type": "display_data"
    }
   ],
   "source": [
    "df = pd.read_csv('Training Dataset/training datalist.csv')\n",
    "display(df.head())\n",
    "df.reset_index(drop=True, inplace=True)"
   ]
  },
  {
   "cell_type": "code",
   "execution_count": 23,
   "metadata": {},
   "outputs": [],
   "source": [
    "# data cleaning\n",
    "df['PPD'].fillna(0, inplace=True)\n",
    "df.dropna(subset=['Voice handicap index - 10'], inplace=True)\n",
    "# df.info()"
   ]
  },
  {
   "cell_type": "code",
   "execution_count": 24,
   "metadata": {},
   "outputs": [],
   "source": [
    "from sklearn.model_selection import train_test_split\n",
    "from sklearn.preprocessing import StandardScaler\n",
    "\n",
    "X = df.drop(['ID', 'Disease category'], axis=1)\n",
    "y = df['Disease category']\n",
    "\n",
    "X_train, X_test, y_train, y_test = train_test_split(X, y, test_size=0.3, random_state=101)\n",
    "\n",
    "scaler = StandardScaler().fit(X_train.values)\n",
    "X_train_norm = scaler.transform(X_train.values)\n",
    "X_test_norm = scaler.transform(X_test.values)"
   ]
  },
  {
   "cell_type": "code",
   "execution_count": 25,
   "metadata": {},
   "outputs": [],
   "source": [
    "from sklearn.linear_model import LogisticRegression\n",
    "\n",
    "lr_model = LogisticRegression(multi_class=\"multinomial\", solver='lbfgs')\n",
    "lr_model.fit(X_train_norm, y_train.values)\n",
    "\n",
    "y_pred = lr_model.predict(X_test_norm)"
   ]
  },
  {
   "cell_type": "code",
   "execution_count": 26,
   "metadata": {},
   "outputs": [
    {
     "name": "stdout",
     "output_type": "stream",
     "text": [
      "Accuracy: 0.63\n",
      "Precision: 0.63\n",
      "Recall: 0.63\n",
      "F1: 0.62\n",
      "              precision    recall  f1-score   support\n",
      "\n",
      "           1       0.70      0.86      0.77       153\n",
      "           2       0.45      0.41      0.43        64\n",
      "           3       0.79      0.46      0.58        59\n",
      "           4       0.08      0.09      0.09        11\n",
      "           5       0.43      0.27      0.33        11\n",
      "\n",
      "    accuracy                           0.63       298\n",
      "   macro avg       0.49      0.42      0.44       298\n",
      "weighted avg       0.63      0.63      0.62       298\n",
      "\n",
      "[[131  12   3   4   3]\n",
      " [ 31  26   4   2   1]\n",
      " [ 13  14  27   5   0]\n",
      " [  4   6   0   1   0]\n",
      " [  8   0   0   0   3]]\n"
     ]
    }
   ],
   "source": [
    "from sklearn.metrics import accuracy_score, f1_score, precision_score, recall_score, classification_report, confusion_matrix\n",
    "\n",
    "accuracy = accuracy_score(y_test.values, y_pred)\n",
    "precision = precision_score(y_test.values, y_pred, average='weighted', zero_division=1)\n",
    "recall = recall_score(y_test.values, y_pred, average='weighted', zero_division=1)\n",
    "f1 = f1_score(y_test.values, y_pred, average='weighted', zero_division=1)\n",
    "\n",
    "print(f\"Accuracy: {accuracy.round(2)}\")\n",
    "print(f\"Precision: {precision.round(2)}\")\n",
    "print(f\"Recall: {recall.round(2)}\")\n",
    "print(f\"F1: {f1.round(2)}\")\n",
    "\n",
    "print(classification_report(y_test.values, y_pred, zero_division=1))\n",
    "print(confusion_matrix(y_test.values, y_pred))"
   ]
  },
  {
   "cell_type": "code",
   "execution_count": 27,
   "metadata": {},
   "outputs": [
    {
     "name": "stdout",
     "output_type": "stream",
     "text": [
      "Feature Importance for Logistic Regression\n",
      "Occupational vocal demand: -0.6534244682313365\n",
      "Sex: 0.6182529905805284\n",
      "Head and Neck Cancer: -0.45959243551245865\n",
      "PPD: 0.38972131199869015\n",
      "frequency: 0.3645083489186531\n",
      "Onset of dysphonia : -0.24994096319869252\n",
      "Decreased volume: -0.2487775403177943\n",
      "Narrow pitch range: 0.2329795052964812\n",
      "Noise at work: 0.2220996451517494\n",
      "Drinking: -0.1915076259492189\n",
      "Diurnal pattern: -0.14495240807235674\n",
      "Voice handicap index - 10: -0.13729344515216635\n",
      "CVA: 0.1355750891461165\n",
      "Choking: -0.1261813364231961\n",
      "PND: 0.1080954486131897\n",
      "Hypertension: 0.09862059654207077\n",
      "Smoking: 0.0906117880290253\n",
      "Age: 0.08255922172528864\n",
      "Diabetes: -0.05489492678276176\n",
      "Dryness: 0.044779876538383875\n",
      "Head injury: 0.043499787608386145\n",
      "heartburn: 0.03918113288206709\n",
      "Lumping: 0.02456362850981507\n",
      "Fatigue: -0.014464140913696476\n",
      "Eye dryness: -0.01036950389516288\n",
      "CAD: -0.0074491712502824286\n"
     ]
    }
   ],
   "source": [
    "# Get feature importance\n",
    "coefficients = lr_model.coef_[0]\n",
    "\n",
    "feature_names = X_train.columns.to_list()\n",
    "\n",
    "coefficients_dict = dict(zip(feature_names, coefficients))\n",
    "\n",
    "sorted_coefficients = sorted(coefficients_dict.items(), key=lambda x: abs(x[1]), reverse=True)\n",
    "\n",
    "print(\"Feature Importance for Logistic Regression\")\n",
    "for feature, coef in sorted_coefficients:\n",
    "    print(f\"{feature}: {coef}\")\n"
   ]
  },
  {
   "cell_type": "code",
   "execution_count": 28,
   "metadata": {},
   "outputs": [
    {
     "data": {
      "image/png": "[encoded data removed]",
      "text/plain": [
       "<Figure size 800x800 with 1 Axes>"
      ]
     },
     "metadata": {},
     "output_type": "display_data"
    }
   ],
   "source": [
    "import matplotlib.pyplot as plt\n",
    "\n",
    "coefficients = lr_model.coef_[0]\n",
    "\n",
    "plt.figure(figsize=(8, 8))\n",
    "plt.barh(X.columns, coefficients)\n",
    "plt.xlabel('Feature Importance')\n",
    "plt.ylabel('Features')\n",
    "plt.title('Feature Importance from Logistic Regression')\n",
    "plt.show()\n"
   ]
  },
  {
   "cell_type": "code",
   "execution_count": 29,
   "metadata": {},
   "outputs": [
    {
     "name": "stdout",
     "output_type": "stream",
     "text": [
      "['Occupational vocal demand', 'Sex', 'Head and Neck Cancer', 'PPD', 'frequency', 'Onset of dysphonia ', 'Decreased volume', 'Narrow pitch range', 'Noise at work', 'Drinking']\n"
     ]
    }
   ],
   "source": [
    "# Get the top 10 features name\n",
    "top_10_features = [feature[0] for feature in sorted_coefficients[:10]]\n",
    "print(top_10_features)"
   ]
  },
  {
   "cell_type": "code",
   "execution_count": 30,
   "metadata": {},
   "outputs": [
    {
     "name": "stdout",
     "output_type": "stream",
     "text": [
      "['heartburn', 'Lumping', 'Fatigue', 'Eye dryness', 'CAD']\n"
     ]
    }
   ],
   "source": [
    "# Get the least 5 features name\n",
    "least_5_features = [feature[0] for feature in sorted_coefficients[-5:]]\n",
    "print(least_5_features)"
   ]
  }
 ],
 "metadata": {
  "kernelspec": {
   "display_name": "ai_cup",
   "language": "python",
   "name": "python3"
  },
  "language_info": {
   "codemirror_mode": {
    "name": "ipython",
    "version": 3
   },
   "file_extension": ".py",
   "mimetype": "text/x-python",
   "name": "python",
   "nbconvert_exporter": "python",
   "pygments_lexer": "ipython3",
   "version": "3.10.0"
  },
  "orig_nbformat": 4
 },
 "nbformat": 4,
 "nbformat_minor": 2
}
